{
 "cells": [
  {
   "cell_type": "code",
   "execution_count": null,
   "metadata": {},
   "outputs": [
    {
     "name": "stdout",
     "output_type": "stream",
     "text": [
      "number1 is greater.\n",
      "number1 is greater than or equal.\n",
      "number1 is not equal.\n"
     ]
    }
   ],
   "source": [
    "#1. If statements\n",
    "\n",
    "number1 = 5\n",
    "number2 = 4\n",
    "\n",
    "if number1==number2:\n",
    "    print (\"the numbers are equal.\")\n",
    "if number1>number2:\n",
    "    print (\"number1 is greater.\")\n",
    "if number1>=number2:\n",
    "    print (\"number1 is greater than or equal.\")\n",
    "if number1!=number2:\n",
    "    print (\"number1 is not equal.\")\n"
   ]
  },
  {
   "cell_type": "code",
   "execution_count": null,
   "metadata": {},
   "outputs": [
    {
     "name": "stdout",
     "output_type": "stream",
     "text": [
      "D. number1 greater than number2.\n",
      "E. number1 and number3 equal.\n"
     ]
    }
   ],
   "source": [
    "#2. If statements\n",
    "\n",
    "number1 = 5\n",
    "number2 = 3\n",
    "number3 = 5\n",
    "\n",
    "#a.\n",
    "if number1==number2 and number2==number3:\n",
    "        print (\"A. all numbers are equal.\")\n",
    "\n",
    "#b.\n",
    "if number1==number2:\n",
    "        print (\"B. number1 and 2 equal.\")\n",
    "if number2==number3:\n",
    "        print (\"B. number2 and 3 equal.\")\n",
    "\n",
    "#c.\n",
    "if number1>number2 and number1>number3:\n",
    "        print (\"C. number1 greater than number2. number1 greater than number3.\")\n",
    "\n",
    "#d.\n",
    "if number1>number2:\n",
    "        print (\"D. number1 greater than number2.\")\n",
    "\n",
    "if number1!=number2:\n",
    "        if number2>number3:\n",
    "                print (\"D. number2 greater than number3\")\n",
    "\n",
    "#e.\n",
    "if number1==number2:\n",
    "        print(\"E. number1 and 2 equal.\")\n",
    "if number1!=number2:\n",
    "        if number1==number3:\n",
    "                print(\"E. number1 and number3 equal.\")\n"
   ]
  },
  {
   "cell_type": "code",
   "execution_count": 50,
   "metadata": {},
   "outputs": [
    {
     "name": "stdout",
     "output_type": "stream",
     "text": [
      "name1 and 2 not equal.\n",
      "name1 and 2 not equal.\n"
     ]
    }
   ],
   "source": [
    "#2. If statements - Strings\n",
    "\n",
    "name1= \"homer\"\n",
    "name2= \"bart\"\n",
    "name3= \"marge\"\n",
    "\n",
    "if name1==name2:\n",
    "    print (\"names equal.\")\n",
    "if name1!=name2:\n",
    "    print (\"name1 and 2 not equal.\")\n",
    "if name1==name2:\n",
    "    print (\"names equal.\")\n",
    "if name1!=name2:\n",
    "    print(\"name1 and 2 not equal.\")\n",
    "    if name1==name3:\n",
    "        print (\"name1 and 3 equal.\")"
   ]
  }
 ],
 "metadata": {
  "kernelspec": {
   "display_name": "Python 3",
   "language": "python",
   "name": "python3"
  },
  "language_info": {
   "codemirror_mode": {
    "name": "ipython",
    "version": 3
   },
   "file_extension": ".py",
   "mimetype": "text/x-python",
   "name": "python",
   "nbconvert_exporter": "python",
   "pygments_lexer": "ipython3",
   "version": "3.10.11"
  }
 },
 "nbformat": 4,
 "nbformat_minor": 2
}
