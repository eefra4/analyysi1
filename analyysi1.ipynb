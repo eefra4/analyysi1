{
 "cells": [
  {
   "cell_type": "code",
   "execution_count": 23,
   "metadata": {},
   "outputs": [
    {
     "name": "stdout",
     "output_type": "stream",
     "text": [
      "Printer App\n",
      "This app is made by: Eero\n"
     ]
    }
   ],
   "source": [
    "creator = \"Eero\"\n",
    "print (\"Printer App\")\n",
    "print (\"This app is made by:\", creator)"
   ]
  },
  {
   "cell_type": "code",
   "execution_count": 22,
   "metadata": {},
   "outputs": [
    {
     "name": "stdout",
     "output_type": "stream",
     "text": [
      "The value of number 1 is 5\n",
      "The value of number2 is 2\n",
      "5 * 2 = 10\n"
     ]
    }
   ],
   "source": [
    "number1 = 5\n",
    "number2 = 2\n",
    "\n",
    "mul = number1*number2\n",
    "add = number1+number2\n",
    "sub = number1-number2\n",
    "div = number1/number2\n",
    "\n",
    "print (\"The value of number 1 is\", number1)\n",
    "print (\"The value of number2 is\", number2)\n",
    "print (number1,\"*\",number2,\"=\",mul)\n"
   ]
  }
 ],
 "metadata": {
  "kernelspec": {
   "display_name": "Python 3",
   "language": "python",
   "name": "python3"
  },
  "language_info": {
   "codemirror_mode": {
    "name": "ipython",
    "version": 3
   },
   "file_extension": ".py",
   "mimetype": "text/x-python",
   "name": "python",
   "nbconvert_exporter": "python",
   "pygments_lexer": "ipython3",
   "version": "3.10.11"
  }
 },
 "nbformat": 4,
 "nbformat_minor": 2
}
